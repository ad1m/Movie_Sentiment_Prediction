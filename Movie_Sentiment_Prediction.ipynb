{
 "cells": [
  {
   "cell_type": "markdown",
   "metadata": {},
   "source": [
    "<center><h2><font color='black'>Homework 1</font></h2></center>\n",
    "<center><h4><font color='black'>CSE 6240</font></h4></center>\n",
    "<center><h4><font color='black'>Adam Lieberman</font></h4></center>"
   ]
  },
  {
   "cell_type": "markdown",
   "metadata": {},
   "source": [
    "<center><h2><font color='black'>Kaggle Tutorial</font></h2></center>"
   ]
  },
  {
   "cell_type": "markdown",
   "metadata": {},
   "source": [
    "<p>To start, we need the following imports. Please make sure that stop words are downloaded. You can uncheck nltk.download() in the code block, run the cell, go to Corpora and then download stopwords if you do not have it on your machine.</p>"
   ]
  },
  {
   "cell_type": "code",
   "execution_count": 1,
   "metadata": {
    "collapsed": false
   },
   "outputs": [],
   "source": [
    "from bs4 import BeautifulSoup\n",
    "import re \n",
    "import nltk\n",
    "#nltk.download()\n",
    "from nltk.corpus import stopwords\n",
    "from sklearn.feature_extraction.text import CountVectorizer\n",
    "from sklearn.feature_extraction.text import TfidfTransformer\n",
    "import numpy as np\n",
    "import pandas as pd"
   ]
  },
  {
   "cell_type": "markdown",
   "metadata": {},
   "source": [
    "<p>Let us breakdown what each package will help us do:</p>\n",
    "<ul>\n",
    "<li>BeautifulSoup - This will help us clean our data by removing markup tags from our reviews.</li>\n",
    "<li>re - This will help us clean our data by having only letters in our reviews </li>\n",
    "<li>nltk - The natural language tooklit will allow us to import stop words (words that have no importance in NLP) and use a variety of vectorizers and transformers to perform natural langauge processing on our data.</li>\n",
    "<li>Numpy - We will use numpy arrays and fucntions to store, organize, and edit our data.</li>\n",
    "<li>Pandas - We will use the pandas dataframe to store our data, organize it, and edit it.</li>\n",
    "</ul>"
   ]
  },
  {
   "cell_type": "markdown",
   "metadata": {},
   "source": [
    "<p>Our data could be messy. The function below cleans our data. It removes markup, keeps only letters, makes all letters lowercase, tokenizes the words, and removes stop words.</p>"
   ]
  },
  {
   "cell_type": "code",
   "execution_count": 2,
   "metadata": {
    "collapsed": true
   },
   "outputs": [],
   "source": [
    "def clean_data(raw_text): \n",
    "    no_markup = BeautifulSoup(raw_text,\"html.parser\").get_text()  #Removes markup\n",
    "    letters = re.sub(\"[^a-zA-Z]\", \" \",no_markup)                  #Keeps only letters\n",
    "    lower_case = letters.lower()                                  #Keeps all words lowercase\n",
    "    tok = lower_case.split()                                      #Tokenizes\n",
    "    stop_words = set(stopwords.words(\"english\"))                  #Create set of stopwords\n",
    "    wrds = [w for w in tok if w not in stop_words]                #Removes stopwords\n",
    "    return(\" \".join(wrds))"
   ]
  },
  {
   "cell_type": "markdown",
   "metadata": {},
   "source": [
    "<p>We now load our training data and store it in a pandas dataframe as follows:</p>"
   ]
  },
  {
   "cell_type": "code",
   "execution_count": 3,
   "metadata": {
    "collapsed": false
   },
   "outputs": [],
   "source": [
    "train_data = pd.read_csv(\"labeledTrainData.tsv\",header=0,delimiter=\"\\t\",quoting=3)"
   ]
  },
  {
   "cell_type": "markdown",
   "metadata": {},
   "source": [
    "<p>With our data loaded into a pandas dataframe, we need to clean the reviews. We can get the total number of reviews and iterate over it to pass each review into the clean_data() function. We do so as follows:</p> "
   ]
  },
  {
   "cell_type": "code",
   "execution_count": 4,
   "metadata": {
    "collapsed": false
   },
   "outputs": [],
   "source": [
    "num_reviews = train_data[\"review\"].size           #Getting the total number of reviews\n",
    "clean_reviews = []                                #Creating empty list to hold cleaned reviews\n",
    "for i in range(0,num_reviews): \n",
    "    clean_reviews.append(clean_data(train_data[\"review\"][i])) #appending cleaned reviews"
   ]
  },
  {
   "cell_type": "markdown",
   "metadata": {},
   "source": [
    "<p>We can now create our CountVectorizer. We want the following parameters:</p>\n",
    "<ul>\n",
    "<li>analyzer = \"word\"</li>\n",
    "<li>tokenizer = None</li>\n",
    "<li>preprocessor = None</li>\n",
    "<li>Stop_words = None</li>\n",
    "<li>max_features = 5000</li>\n",
    "</ul>\n",
    "<p>We only want 5000 features as having too many features could lead to poor results. We set up our CountVectorizer as follows:</p>"
   ]
  },
  {
   "cell_type": "code",
   "execution_count": 5,
   "metadata": {
    "collapsed": true
   },
   "outputs": [],
   "source": [
    "vectorizer = CountVectorizer(analyzer=\"word\",tokenizer=None,preprocessor=None,stop_words=None,max_features=5000)"
   ]
  },
  {
   "cell_type": "markdown",
   "metadata": {},
   "source": [
    "<p>Now that we have our vectorizer, we can create our training features:</p>"
   ]
  },
  {
   "cell_type": "code",
   "execution_count": 6,
   "metadata": {
    "collapsed": false
   },
   "outputs": [],
   "source": [
    "train_data_features = vectorizer.fit_transform(clean_reviews)"
   ]
  },
  {
   "cell_type": "markdown",
   "metadata": {},
   "source": [
    "<center><h2><font color='black'>Question 1</font></h2></center>"
   ]
  },
  {
   "cell_type": "markdown",
   "metadata": {},
   "source": [
    "<p>Let us now create X_counts. To do this, we can simply use fit_transform on our clean_reviews (which we do above) and make this data a numpy array. We do so as follows:</p>"
   ]
  },
  {
   "cell_type": "code",
   "execution_count": 7,
   "metadata": {
    "collapsed": false
   },
   "outputs": [],
   "source": [
    "from scipy.sparse import csr_matrix\n",
    "X_counts = train_data_features.toarray()"
   ]
  },
  {
   "cell_type": "markdown",
   "metadata": {},
   "source": [
    "<p>Let us now construct X_binary. To do this we will first create a copy of X_counts so that we do not change the X_counts array. We can then mask the array using a conditional. If the element is > 0 then we will set that element to 1. We do so as follows:</p>"
   ]
  },
  {
   "cell_type": "code",
   "execution_count": 8,
   "metadata": {
    "collapsed": true
   },
   "outputs": [],
   "source": [
    "X_binary = X_counts.copy()\n",
    "X_binary[X_binary > 0] = 1 "
   ]
  },
  {
   "cell_type": "markdown",
   "metadata": {},
   "source": [
    "<p>To construct X_tfidf we will first create a transformer from TfidfTransformer. Here, we need to set smooth_idf = False. We can then use fit_transform on a copy of X_counts and then make this variable an array. This will give us X_tfidf. The process is as follows:</p>"
   ]
  },
  {
   "cell_type": "code",
   "execution_count": 9,
   "metadata": {
    "collapsed": true
   },
   "outputs": [],
   "source": [
    "X_tfidf = X_counts.copy()\n",
    "transformer = TfidfTransformer(smooth_idf=False)\n",
    "X_tfidf = transformer.fit_transform(X_tfidf)\n",
    "X_tfidf = X_tfidf.toarray()"
   ]
  },
  {
   "cell_type": "markdown",
   "metadata": {},
   "source": [
    "<p>We now can calcualte X_binary_imbalance. We first need to find the rows of our train_data that correspond to sentiment being a value of 1. We then take the index values of these rows. We do so as follows</p>"
   ]
  },
  {
   "cell_type": "code",
   "execution_count": 10,
   "metadata": {
    "collapsed": false
   },
   "outputs": [],
   "source": [
    "np.random.seed(0)\n",
    "\n",
    "pos_sent = train_data[train_data[\"sentiment\"] == 1]\n",
    "pos_sent_indx = pos_sent.index"
   ]
  },
  {
   "cell_type": "markdown",
   "metadata": {},
   "source": [
    "<p>We now need to randomly choose 75% of the rows to drop. First we set the random seed to 0 and then we can calculate the total number of rows and multiply this by 0.75 to get the number of rows to drop. We need to make sure this number is an int. We can then use np.random.choice on the pos_sent_indx indices and choose random numbers with no replacement. We do so as follows:</p>"
   ]
  },
  {
   "cell_type": "code",
   "execution_count": 11,
   "metadata": {
    "collapsed": false
   },
   "outputs": [],
   "source": [
    "np.random.seed(0)\n",
    "num_drop = int((pos_sent.shape[0])*.75)\n",
    "drop_indx = np.random.choice(pos_sent_indx,num_drop,replace=False)"
   ]
  },
  {
   "cell_type": "markdown",
   "metadata": {},
   "source": [
    "<p>We then drop these rows from the pos_sent dataframe and get the index values.</p>"
   ]
  },
  {
   "cell_type": "code",
   "execution_count": 12,
   "metadata": {
    "collapsed": false
   },
   "outputs": [],
   "source": [
    "pos_sent_dropped = train_data.drop(drop_indx)\n",
    "pos_sent_dropped[\"sentiment\"].shape\n",
    "x_imbalance_drop = pos_sent_dropped.index "
   ]
  },
  {
   "cell_type": "markdown",
   "metadata": {},
   "source": [
    "<p>We can now set X_binary_imbalance equal to X_counts[x_imbalance_drop]. This will delete 75% of the rows corresponding to sentiment = 1, giving us an imbalanced data set.</p>"
   ]
  },
  {
   "cell_type": "code",
   "execution_count": 13,
   "metadata": {
    "collapsed": false
   },
   "outputs": [],
   "source": [
    "X_binary_imbalance = X_counts[x_imbalance_drop]"
   ]
  },
  {
   "cell_type": "markdown",
   "metadata": {},
   "source": [
    "<p>We have now created all four design matrices, let us print them out below with their shape and size:</p>"
   ]
  },
  {
   "cell_type": "code",
   "execution_count": 14,
   "metadata": {
    "collapsed": false
   },
   "outputs": [
    {
     "name": "stdout",
     "output_type": "stream",
     "text": [
      "X_counts:\n",
      "Shape:  (25000, 5000)\n",
      "Size:  125000000\n",
      "[[0 0 0 ..., 0 0 0]\n",
      " [0 0 0 ..., 0 0 0]\n",
      " [0 0 0 ..., 0 0 0]\n",
      " ..., \n",
      " [0 0 0 ..., 0 0 0]\n",
      " [0 0 0 ..., 0 0 0]\n",
      " [0 0 0 ..., 0 0 0]]\n",
      "\n",
      "\n",
      "X_binary:\n",
      "Shape:  (25000, 5000)\n",
      "Size:  125000000\n",
      "[[0 0 0 ..., 0 0 0]\n",
      " [0 0 0 ..., 0 0 0]\n",
      " [0 0 0 ..., 0 0 0]\n",
      " ..., \n",
      " [0 0 0 ..., 0 0 0]\n",
      " [0 0 0 ..., 0 0 0]\n",
      " [0 0 0 ..., 0 0 0]]\n",
      "\n",
      "\n",
      "X_tfidf:\n",
      "Shape:  (25000, 5000)\n",
      "Size:  125000000\n",
      "[[ 0.  0.  0. ...,  0.  0.  0.]\n",
      " [ 0.  0.  0. ...,  0.  0.  0.]\n",
      " [ 0.  0.  0. ...,  0.  0.  0.]\n",
      " ..., \n",
      " [ 0.  0.  0. ...,  0.  0.  0.]\n",
      " [ 0.  0.  0. ...,  0.  0.  0.]\n",
      " [ 0.  0.  0. ...,  0.  0.  0.]]\n",
      "\n",
      "\n",
      "X_binary_imbalance:\n",
      "Shape:  (15625, 5000)\n",
      "Size:  78125000\n",
      "[[0 0 0 ..., 0 0 0]\n",
      " [0 0 0 ..., 0 0 0]\n",
      " [0 0 0 ..., 0 0 0]\n",
      " ..., \n",
      " [0 0 0 ..., 0 0 0]\n",
      " [0 0 0 ..., 0 0 0]\n",
      " [0 0 0 ..., 0 0 0]]\n",
      "\n",
      "\n"
     ]
    }
   ],
   "source": [
    "print('X_counts:')\n",
    "print('Shape: ',X_counts.shape)\n",
    "print('Size: ',X_counts.size)\n",
    "print(X_counts)\n",
    "print('\\n')\n",
    "print('X_binary:')\n",
    "print('Shape: ',X_binary.shape)\n",
    "print('Size: ',X_binary.size)\n",
    "print(X_binary)\n",
    "print('\\n')\n",
    "print('X_tfidf:')\n",
    "print('Shape: ',X_tfidf.shape)\n",
    "print('Size: ',X_tfidf.size)\n",
    "print(X_tfidf)\n",
    "print('\\n')\n",
    "print('X_binary_imbalance:')\n",
    "print('Shape: ',X_binary_imbalance.shape)\n",
    "print('Size: ',X_binary_imbalance.size)\n",
    "print(X_binary_imbalance)\n",
    "print('\\n')"
   ]
  },
  {
   "cell_type": "markdown",
   "metadata": {},
   "source": [
    "<p>Storing and working with dense matrices requires additional memory. Let us work with sparse matrices instead. To turn our numpy array into a sparse matrix, we can use the csr matrix from scipy.sparse and simply cast our original numpy array. We do so as follows:</b> "
   ]
  },
  {
   "cell_type": "code",
   "execution_count": 15,
   "metadata": {
    "collapsed": false
   },
   "outputs": [],
   "source": [
    "from scipy.sparse import csr_matrix\n",
    "X_counts = csr_matrix(X_counts)\n",
    "X_binary = csr_matrix(X_binary)\n",
    "X_tfidf = csr_matrix(X_tfidf)\n",
    "X_binary_imbalance = csr_matrix(X_binary_imbalance)"
   ]
  },
  {
   "cell_type": "markdown",
   "metadata": {},
   "source": [
    "<p>Let us print the sparse matrices out and their size and shape:</p>"
   ]
  },
  {
   "cell_type": "code",
   "execution_count": 16,
   "metadata": {
    "collapsed": false
   },
   "outputs": [
    {
     "name": "stdout",
     "output_type": "stream",
     "text": [
      "X_counts:\n",
      "Shape:  (25000, 5000)\n",
      "Size:  1975048\n",
      "  (0, 46)\t1\n",
      "  (0, 132)\t1\n",
      "  (0, 137)\t2\n",
      "  (0, 189)\t1\n",
      "  (0, 201)\t1\n",
      "  (0, 283)\t1\n",
      "  (0, 309)\t1\n",
      "  (0, 323)\t3\n",
      "  (0, 386)\t1\n",
      "  (0, 413)\t1\n",
      "  (0, 423)\t1\n",
      "  (0, 428)\t1\n",
      "  (0, 483)\t1\n",
      "  (0, 490)\t1\n",
      "  (0, 550)\t1\n",
      "  (0, 566)\t1\n",
      "  (0, 594)\t1\n",
      "  (0, 599)\t1\n",
      "  (0, 622)\t1\n",
      "  (0, 682)\t1\n",
      "  (0, 703)\t1\n",
      "  (0, 764)\t1\n",
      "  (0, 801)\t1\n",
      "  (0, 875)\t1\n",
      "  (0, 943)\t1\n",
      "  :\t:\n",
      "  (24999, 2709)\t1\n",
      "  (24999, 2757)\t1\n",
      "  (24999, 2761)\t1\n",
      "  (24999, 2898)\t1\n",
      "  (24999, 2903)\t1\n",
      "  (24999, 2912)\t3\n",
      "  (24999, 2913)\t1\n",
      "  (24999, 2973)\t1\n",
      "  (24999, 2989)\t1\n",
      "  (24999, 3003)\t1\n",
      "  (24999, 3092)\t1\n",
      "  (24999, 3121)\t1\n",
      "  (24999, 3521)\t1\n",
      "  (24999, 3782)\t1\n",
      "  (24999, 3812)\t2\n",
      "  (24999, 3815)\t1\n",
      "  (24999, 3878)\t1\n",
      "  (24999, 4228)\t1\n",
      "  (24999, 4230)\t3\n",
      "  (24999, 4394)\t1\n",
      "  (24999, 4477)\t1\n",
      "  (24999, 4696)\t1\n",
      "  (24999, 4707)\t1\n",
      "  (24999, 4830)\t1\n",
      "  (24999, 4927)\t3\n",
      "\n",
      "\n",
      "X_binary:\n",
      "Shape:  (25000, 5000)\n",
      "Size:  1975048\n",
      "  (0, 46)\t1\n",
      "  (0, 132)\t1\n",
      "  (0, 137)\t1\n",
      "  (0, 189)\t1\n",
      "  (0, 201)\t1\n",
      "  (0, 283)\t1\n",
      "  (0, 309)\t1\n",
      "  (0, 323)\t1\n",
      "  (0, 386)\t1\n",
      "  (0, 413)\t1\n",
      "  (0, 423)\t1\n",
      "  (0, 428)\t1\n",
      "  (0, 483)\t1\n",
      "  (0, 490)\t1\n",
      "  (0, 550)\t1\n",
      "  (0, 566)\t1\n",
      "  (0, 594)\t1\n",
      "  (0, 599)\t1\n",
      "  (0, 622)\t1\n",
      "  (0, 682)\t1\n",
      "  (0, 703)\t1\n",
      "  (0, 764)\t1\n",
      "  (0, 801)\t1\n",
      "  (0, 875)\t1\n",
      "  (0, 943)\t1\n",
      "  :\t:\n",
      "  (24999, 2709)\t1\n",
      "  (24999, 2757)\t1\n",
      "  (24999, 2761)\t1\n",
      "  (24999, 2898)\t1\n",
      "  (24999, 2903)\t1\n",
      "  (24999, 2912)\t1\n",
      "  (24999, 2913)\t1\n",
      "  (24999, 2973)\t1\n",
      "  (24999, 2989)\t1\n",
      "  (24999, 3003)\t1\n",
      "  (24999, 3092)\t1\n",
      "  (24999, 3121)\t1\n",
      "  (24999, 3521)\t1\n",
      "  (24999, 3782)\t1\n",
      "  (24999, 3812)\t1\n",
      "  (24999, 3815)\t1\n",
      "  (24999, 3878)\t1\n",
      "  (24999, 4228)\t1\n",
      "  (24999, 4230)\t1\n",
      "  (24999, 4394)\t1\n",
      "  (24999, 4477)\t1\n",
      "  (24999, 4696)\t1\n",
      "  (24999, 4707)\t1\n",
      "  (24999, 4830)\t1\n",
      "  (24999, 4927)\t1\n",
      "\n",
      "\n",
      "X_tfidf:\n",
      "Shape:  (25000, 5000)\n",
      "Size:  1975048\n",
      "  (0, 46)\t0.0679255433478\n",
      "  (0, 132)\t0.0634365418497\n",
      "  (0, 137)\t0.0700355195308\n",
      "  (0, 189)\t0.04364378477\n",
      "  (0, 201)\t0.0621122162827\n",
      "  (0, 283)\t0.0654142890503\n",
      "  (0, 309)\t0.0496432861259\n",
      "  (0, 323)\t0.109057046816\n",
      "  (0, 386)\t0.0608046439639\n",
      "  (0, 413)\t0.0658105703047\n",
      "  (0, 423)\t0.103206116035\n",
      "  (0, 428)\t0.0487529283989\n",
      "  (0, 483)\t0.056675313192\n",
      "  (0, 490)\t0.076325162882\n",
      "  (0, 550)\t0.0869366439008\n",
      "  (0, 566)\t0.0674288848159\n",
      "  (0, 594)\t0.0649764210655\n",
      "  (0, 599)\t0.0563721754707\n",
      "  (0, 622)\t0.0643180839098\n",
      "  (0, 682)\t0.0680735811884\n",
      "  (0, 703)\t0.0392970336266\n",
      "  (0, 764)\t0.0601042387138\n",
      "  (0, 801)\t0.0989260741545\n",
      "  (0, 875)\t0.0767760361809\n",
      "  (0, 943)\t0.0731092926847\n",
      "  :\t:\n",
      "  (24999, 2709)\t0.0640233105813\n",
      "  (24999, 2757)\t0.0872335456771\n",
      "  (24999, 2761)\t0.124009675865\n",
      "  (24999, 2898)\t0.102258556478\n",
      "  (24999, 2903)\t0.15066324141\n",
      "  (24999, 2912)\t0.110272068312\n",
      "  (24999, 2913)\t0.0626507931042\n",
      "  (24999, 2973)\t0.0926369175559\n",
      "  (24999, 2989)\t0.0642531270707\n",
      "  (24999, 3003)\t0.0905105421508\n",
      "  (24999, 3092)\t0.0386780567377\n",
      "  (24999, 3121)\t0.0948618997133\n",
      "  (24999, 3521)\t0.125850051119\n",
      "  (24999, 3782)\t0.106805325116\n",
      "  (24999, 3812)\t0.158064381715\n",
      "  (24999, 3815)\t0.105358983771\n",
      "  (24999, 3878)\t0.0627800298642\n",
      "  (24999, 4228)\t0.106558300479\n",
      "  (24999, 4230)\t0.161902151986\n",
      "  (24999, 4394)\t0.142647046288\n",
      "  (24999, 4477)\t0.0725077053343\n",
      "  (24999, 4696)\t0.13525925502\n",
      "  (24999, 4707)\t0.0926991145288\n",
      "  (24999, 4830)\t0.0621495342473\n",
      "  (24999, 4927)\t0.489456351278\n",
      "\n",
      "\n",
      "X_binary_imbalance:\n",
      "Shape:  (15625, 5000)\n",
      "Size:  1227921\n",
      "  (0, 46)\t1\n",
      "  (0, 132)\t1\n",
      "  (0, 137)\t2\n",
      "  (0, 189)\t1\n",
      "  (0, 201)\t1\n",
      "  (0, 283)\t1\n",
      "  (0, 309)\t1\n",
      "  (0, 323)\t3\n",
      "  (0, 386)\t1\n",
      "  (0, 413)\t1\n",
      "  (0, 423)\t1\n",
      "  (0, 428)\t1\n",
      "  (0, 483)\t1\n",
      "  (0, 490)\t1\n",
      "  (0, 550)\t1\n",
      "  (0, 566)\t1\n",
      "  (0, 594)\t1\n",
      "  (0, 599)\t1\n",
      "  (0, 622)\t1\n",
      "  (0, 682)\t1\n",
      "  (0, 703)\t1\n",
      "  (0, 764)\t1\n",
      "  (0, 801)\t1\n",
      "  (0, 875)\t1\n",
      "  (0, 943)\t1\n",
      "  :\t:\n",
      "  (15624, 3208)\t2\n",
      "  (15624, 3319)\t3\n",
      "  (15624, 3333)\t1\n",
      "  (15624, 3348)\t2\n",
      "  (15624, 3404)\t1\n",
      "  (15624, 3555)\t1\n",
      "  (15624, 3813)\t1\n",
      "  (15624, 3823)\t1\n",
      "  (15624, 3827)\t2\n",
      "  (15624, 3956)\t1\n",
      "  (15624, 4025)\t1\n",
      "  (15624, 4095)\t1\n",
      "  (15624, 4110)\t3\n",
      "  (15624, 4275)\t1\n",
      "  (15624, 4400)\t2\n",
      "  (15624, 4406)\t1\n",
      "  (15624, 4416)\t2\n",
      "  (15624, 4468)\t1\n",
      "  (15624, 4477)\t1\n",
      "  (15624, 4657)\t1\n",
      "  (15624, 4726)\t1\n",
      "  (15624, 4844)\t1\n",
      "  (15624, 4845)\t2\n",
      "  (15624, 4869)\t1\n",
      "  (15624, 4985)\t1\n",
      "\n",
      "\n"
     ]
    }
   ],
   "source": [
    "print('X_counts:')\n",
    "print('Shape: ',X_counts.shape)\n",
    "print('Size: ',X_counts.size)\n",
    "print(X_counts)\n",
    "print('\\n')\n",
    "print('X_binary:')\n",
    "print('Shape: ',X_binary.shape)\n",
    "print('Size: ',X_binary.size)\n",
    "print(X_binary)\n",
    "print('\\n')\n",
    "print('X_tfidf:')\n",
    "print('Shape: ',X_tfidf.shape)\n",
    "print('Size: ',X_tfidf.size)\n",
    "print(X_tfidf)\n",
    "print('\\n')\n",
    "print('X_binary_imbalance:')\n",
    "print('Shape: ',X_binary_imbalance.shape)\n",
    "print('Size: ',X_binary_imbalance.size)\n",
    "print(X_binary_imbalance)\n",
    "print('\\n')"
   ]
  },
  {
   "cell_type": "markdown",
   "metadata": {
    "collapsed": true
   },
   "source": [
    "<center><h2><font color='black'>Question 2</font></h2></center>"
   ]
  },
  {
   "cell_type": "markdown",
   "metadata": {
    "collapsed": true
   },
   "source": [
    "<p>Let us first create a function called dist, which calcualtes the distance between rows i and j of a design matrix. The parameters will be a matrix X, row i, row j, and a distance_function = 'Euclidean'.</p>\n",
    "<p>We first import cdist from scipy.spatial.distance. This will allow us to quickly calcualte the euclidean distance or whatever distance we choose to pass in that scipy supports. We then let row1 be our ith column of matrix X and row2 be our jth column of matrix X. We turn both rows into lists and then enclose both lists into lists as cdist requires this. We then let d represent the euclidean distance between these two rows using cdist. We then return d[0][0] for a single floating point answer. The function is as follows: </p>"
   ]
  },
  {
   "cell_type": "code",
   "execution_count": 17,
   "metadata": {
    "collapsed": false
   },
   "outputs": [],
   "source": [
    "from scipy.spatial.distance import cdist\n",
    "def dist(X,i,j,distance_function='Euclidean'): \n",
    "    X = X.toarray()       #making sure we have an array and not a sparse matrix\n",
    "    row1 = [X[i].tolist()]\n",
    "    row2 = [X[j].tolist()]        \n",
    "    d = cdist(row1,row2,distance_function)\n",
    "    return d[0][0]"
   ]
  },
  {
   "cell_type": "markdown",
   "metadata": {},
   "source": [
    "<p>Let us test this dist function on X_counts rows 15 and 18:</p>"
   ]
  },
  {
   "cell_type": "code",
   "execution_count": 18,
   "metadata": {
    "collapsed": false
   },
   "outputs": [
    {
     "name": "stdout",
     "output_type": "stream",
     "text": [
      "14.4913767462\n"
     ]
    }
   ],
   "source": [
    "d = dist(X_counts,15,18)\n",
    "print(d)"
   ]
  },
  {
   "cell_type": "markdown",
   "metadata": {},
   "source": [
    "<p>We see that rows 15 and 18 in X_counts have a distance of 14.4913767462.</p>"
   ]
  },
  {
   "cell_type": "markdown",
   "metadata": {},
   "source": [
    "<p>Let us now write a function called topk(X,k) which returns ((i1,j1,d1),...,(ik,jk,dk)) where (ix,jx) are the indices of the xth closest pair, and dx is the corresponding distance. The steps for doing so are as follows:</p>\n",
    "<ol>\n",
    "<p>i) Imports - We will import csr_matrix to use sparse matrices for less computationally taxing operations on our memory and the pairwise_distances function from sklearn</p>\n",
    "<p>ii) Parameters - Our function tokp will take in a matrix X and a value k where k is the number of minimum distances we want to return.</p>\n",
    "<p>iii) Pairwise Distances - We first make our matrix sparse and then ue the pairwise_distances function from sklearn to calculate the matrix of pairwise distancs.</p>\n",
    "<p>iv) Matrix Formation - We then take the pairwise distance matrix and fill the diagonal with infinity as well as the bottom traingular matrix. We do so because the matrix is symmetric and we don't need duplicates (i.e. we have (i,j) and we don't need (j,i)).</p>\n",
    "<p>v) We have duplicate features in X_counts. The TA's have noted that it is optional to remove these, so I have decided to remove them as they will return a pairwise distance of 0.0. If there is a duplciate I set the pairwise distance to infinity so that it will not be returned.</p>\n",
    "<p>vi) Indices - I then get the indices of the pairwise distances (the row and the column). </p>\n",
    "<p>vii) Sorting - I use argsort to sort the pairwise_distances of the rows and columns indices and then take all up to k. This will be the k smallest indices.</p>\n",
    "<p>viii) Zipping - I then zip the minimum row and columns with their corresponding distance and return this list of tuples.</p>\n",
    "</ol>\n",
    "<p>The code for the topk function is as follows:</p>"
   ]
  },
  {
   "cell_type": "code",
   "execution_count": 19,
   "metadata": {
    "collapsed": false
   },
   "outputs": [],
   "source": [
    "from scipy.sparse import csr_matrix\n",
    "from sklearn.metrics.pairwise import pairwise_distances \n",
    "import time\n",
    "\n",
    "\n",
    "def topk(X,k):\n",
    "    \n",
    "    #create sparse matrix and compute pairwise distances\n",
    "    sparse = csr_matrix(X);      \n",
    "    pairwise_dists = pairwise_distances(sparse, Y=None, n_jobs=-1);\n",
    "    \n",
    "    #format upper traingular matrix and handle lower triangular and diagonal\n",
    "    upper_traingular = np.triu(np.ones(pairwise_dists.shape).astype(np.bool))\n",
    "    pairwise_dists[upper_traingular == False] = np.inf\n",
    "    np.fill_diagonal(pairwise_dists,np.inf)\n",
    "    \n",
    "    #Remove duplicates\n",
    "    pairwise_dists[pairwise_dists == 0.0] = np.inf  \n",
    "    \n",
    "    #Sort indices \n",
    "    R,C = np.triu_indices(pairwise_dists.shape[1],1)\n",
    "    idx = pairwise_dists[R,C].argsort()[:k]\n",
    "    r,c = R[idx], C[idx]\n",
    "    \n",
    "    #Create list of tuples\n",
    "    lst = list(zip(r,c,pairwise_dists[r,c]))\n",
    "    return lst"
   ]
  },
  {
   "cell_type": "markdown",
   "metadata": {},
   "source": [
    "<p>Let us now run topk with X_counts, X_binary, X_tfidf, and X_binary_imbalance:</p>"
   ]
  },
  {
   "cell_type": "code",
   "execution_count": 20,
   "metadata": {
    "collapsed": false
   },
   "outputs": [],
   "source": [
    "topk_X_counts = topk(X_counts,10)\n",
    "topk_X_binary = topk(X_binary,10)\n",
    "topk_X_tfidf = topk(X_tfidf,10)\n",
    "topk_X_binary_imbalance = topk(X_binary_imbalance,10)"
   ]
  },
  {
   "cell_type": "markdown",
   "metadata": {},
   "source": [
    "<p>We now print the top 10 elements in the design matrices:</p>"
   ]
  },
  {
   "cell_type": "code",
   "execution_count": 21,
   "metadata": {
    "collapsed": false
   },
   "outputs": [
    {
     "name": "stdout",
     "output_type": "stream",
     "text": [
      "Top 10 X_counts:\n",
      "[(2052, 20915, 1.0), (7758, 18697, 1.0), (7663, 11331, 1.0), (7245, 16635, 1.0), (11876, 21854, 1.0), (17927, 23442, 1.0), (3217, 13530, 1.4142135623730951), (14007, 15296, 1.4142135623730951), (5930, 8651, 1.4142135623730951), (17096, 21325, 1.7320508075688772)]\n",
      "\n",
      "\n",
      "Top 10 X_binary:\n",
      "[(3217, 13530, 1.0), (7663, 11331, 1.0), (17927, 23442, 1.0), (11876, 21854, 1.0), (5930, 8651, 1.0), (7245, 16635, 1.0), (2052, 20915, 1.0), (7758, 18697, 1.0), (6864, 14534, 1.4142135623730951), (14007, 15296, 1.4142135623730951)]\n",
      "\n",
      "\n",
      "Top 10 X_tfidf:\n",
      "[(6864, 14534, 0.080655562054489011), (17096, 21325, 0.13706274110970509), (3217, 13530, 0.15248405683166086), (2052, 20915, 0.1655483845811786), (7758, 18697, 0.16767449109478574), (7663, 11331, 0.17952323892917071), (5930, 8651, 0.19597370700017627), (7245, 16635, 0.20579086877591307), (14007, 15296, 0.21999557517589804), (11876, 21854, 0.25003065829377469)]\n",
      "\n",
      "\n",
      "Top 10 X_binary_imbalance:\n",
      "[(7394, 13656, 1.0), (3681, 5376, 1.4142135623730951), (10711, 13344, 1.7320508075688772), (12680, 13920, 2.2360679774997898), (13920, 15157, 2.8284271247461903), (5628, 12680, 2.8284271247461903), (2366, 13920, 2.8284271247461903), (13920, 14746, 3.0), (12536, 13920, 3.0), (5750, 13920, 3.0)]\n"
     ]
    }
   ],
   "source": [
    "print('Top 10 X_counts:')\n",
    "print(topk_X_counts)\n",
    "print('\\n')\n",
    "print('Top 10 X_binary:')\n",
    "print(topk_X_binary)\n",
    "print('\\n')\n",
    "print('Top 10 X_tfidf:')\n",
    "print(topk_X_tfidf)\n",
    "print('\\n')\n",
    "print('Top 10 X_binary_imbalance:')\n",
    "print(topk_X_binary_imbalance)"
   ]
  },
  {
   "cell_type": "markdown",
   "metadata": {},
   "source": [
    "<p>Let us now print the top pair in each design matrix along with the index of reviews, the distance of reviews, the first 20 characters of the reviews, and the labels of reviews:</p>"
   ]
  },
  {
   "cell_type": "code",
   "execution_count": 22,
   "metadata": {
    "collapsed": false
   },
   "outputs": [
    {
     "name": "stdout",
     "output_type": "stream",
     "text": [
      "X_counts:\n",
      "\n",
      "index of reviews:  2052  ,  20915\n",
      "distance of reviews:  1.0\n",
      "first 20 characters of 1st review:  \"Atlantis was much b\n",
      "first 20 characters of 2nd review:  \"Atlantis was much b\n",
      "labels of reviews:  1  ,  1\n"
     ]
    }
   ],
   "source": [
    "#X_counts\n",
    "x_counts_top = topk_X_counts[0]\n",
    "rev1 = train_data[\"review\"][x_counts_top[0]][0:20]\n",
    "rev2 = train_data[\"review\"][x_counts_top[1]][0:20]\n",
    "lab1 = train_data[\"sentiment\"][x_counts_top[0]]\n",
    "lab2 = train_data[\"sentiment\"][x_counts_top[1]]\n",
    "print('X_counts:\\n')\n",
    "print('index of reviews: ',x_counts_top[0],' , ',x_counts_top[1])\n",
    "print('distance of reviews: ',x_counts_top[2])\n",
    "print('first 20 characters of 1st review: ',rev1 )\n",
    "print('first 20 characters of 2nd review: ',rev2 )\n",
    "print('labels of reviews: ',lab1, ' , ',lab2)"
   ]
  },
  {
   "cell_type": "code",
   "execution_count": 23,
   "metadata": {
    "collapsed": false
   },
   "outputs": [
    {
     "name": "stdout",
     "output_type": "stream",
     "text": [
      "X_binary:\n",
      "\n",
      "index of reviews:  3217  ,  13530\n",
      "distance of reviews:  1.0\n",
      "first 20 characters of 1st review:  \"Brothers with psych\n",
      "first 20 characters of 2nd review:  \"Brothers with psych\n",
      "labels of reviews:  1  ,  1\n"
     ]
    }
   ],
   "source": [
    "#X_binary\n",
    "x_binary_top = topk_X_binary[0]\n",
    "rev1 = train_data[\"review\"][x_binary_top[0]][0:20]\n",
    "rev2 = train_data[\"review\"][x_binary_top[1]][0:20]\n",
    "lab1 = train_data[\"sentiment\"][x_binary_top[0]]\n",
    "lab2 = train_data[\"sentiment\"][x_binary_top[1]]\n",
    "print('X_binary:\\n')\n",
    "print('index of reviews: ',x_binary_top[0],' , ',x_binary_top[1])\n",
    "print('distance of reviews: ',x_binary_top[2])\n",
    "print('first 20 characters of 1st review: ',rev1 )\n",
    "print('first 20 characters of 2nd review: ',rev2 )\n",
    "print('labels of reviews: ',lab1, ' , ',lab2)"
   ]
  },
  {
   "cell_type": "code",
   "execution_count": 24,
   "metadata": {
    "collapsed": false
   },
   "outputs": [
    {
     "name": "stdout",
     "output_type": "stream",
     "text": [
      "X_tfidf:\n",
      "\n",
      "index of reviews:  6864  ,  14534\n",
      "distance of reviews:  0.0806555620545\n",
      "first 20 characters of 1st review:  \"Some have praised _\n",
      "first 20 characters of 2nd review:  \"Some have praised -\n",
      "labels of reviews:  0  ,  0\n"
     ]
    }
   ],
   "source": [
    "#X_tfidf\n",
    "x_tfidf_top = topk_X_tfidf[0]\n",
    "rev1 = train_data[\"review\"][x_tfidf_top[0]][0:20]\n",
    "rev2 = train_data[\"review\"][x_tfidf_top[1]][0:20]\n",
    "lab1 = train_data[\"sentiment\"][x_tfidf_top[0]]\n",
    "lab2 = train_data[\"sentiment\"][x_tfidf_top[1]]\n",
    "print('X_tfidf:\\n')\n",
    "print('index of reviews: ',x_tfidf_top[0],' , ',x_tfidf_top[1])\n",
    "print('distance of reviews: ',x_tfidf_top[2])\n",
    "print('first 20 characters of 1st review: ',rev1 )\n",
    "print('first 20 characters of 2nd review: ',rev2 )\n",
    "print('labels of reviews: ',lab1, ' , ',lab2)"
   ]
  },
  {
   "cell_type": "code",
   "execution_count": 25,
   "metadata": {
    "collapsed": false
   },
   "outputs": [
    {
     "name": "stdout",
     "output_type": "stream",
     "text": [
      "X_binary_imbalance:\n",
      "\n",
      "index of reviews:  7394  ,  13656\n",
      "distance of reviews:  1.0\n",
      "first 20 characters of 1st review:  \"2 stars out of a po\n",
      "first 20 characters of 2nd review:  \"I like this film fo\n",
      "labels of reviews:  0  ,  1\n"
     ]
    }
   ],
   "source": [
    "#X_binary_imbalance\n",
    "x_binary_imbalance_top = topk_X_binary_imbalance[0]\n",
    "rev1 = train_data[\"review\"][x_binary_imbalance_top[0]][0:20]\n",
    "rev2 = train_data[\"review\"][x_binary_imbalance_top[1]][0:20]\n",
    "lab1 = train_data[\"sentiment\"][x_binary_imbalance_top[0]]\n",
    "lab2 = train_data[\"sentiment\"][x_binary_imbalance_top[1]]\n",
    "print('X_binary_imbalance:\\n')\n",
    "print('index of reviews: ',x_binary_imbalance_top[0],' , ',x_binary_imbalance_top[1])\n",
    "print('distance of reviews: ',x_binary_imbalance_top[2])\n",
    "print('first 20 characters of 1st review: ',rev1 )\n",
    "print('first 20 characters of 2nd review: ',rev2 )\n",
    "print('labels of reviews: ',lab1, ' , ',lab2)"
   ]
  },
  {
   "cell_type": "markdown",
   "metadata": {},
   "source": [
    "<p>Let us now answer the following question: \"Are the pairs always the same?\" Looking at our results from the design matrices we see that the pairs are not always the same.  We can see this if we look at the code block where we printed the top 10 indices and distances above. For example, if we look at X_binary we see that we have (5930, 8651, 1.0) meaning that rows 5930 and 8651 have a distance of 1.0 when we construct the X_binary feature. However, when we construct the X_counts feature rows 5930 and 8651 do not have a distance of 1.0 as we can see. As another example, in X_tfidf we have (6864, 14534, 0.080655562054489011) however, the smallest distance between two features in X_counts is 1.0, so we immediately know that the pairs are not always the same. Row 6864 and row 14534 are much closer in X_tfidf than they are in X_counts for instance. Also, above the top pair is different in each result and looking at the minimum distance between the different pairs have different indices and corresponding distance. We see that X_binary_imbalance is the most different pair from the other design matrices in terms of looking at the reviews and the labels of the reviews. Thus, we see that the pairs are not always the same.</p> "
   ]
  },
  {
   "cell_type": "markdown",
   "metadata": {
    "collapsed": false
   },
   "source": [
    "<center><h2><font color='black'>Question 3</font></h2></center>"
   ]
  },
  {
   "cell_type": "markdown",
   "metadata": {
    "collapsed": false
   },
   "source": [
    "<p>We are now going to tune an SVM classifier using each design matrix and measure the resultant performance. To start, let us set create an initial learning set and testing set. The learning set will compromise 80% of our data and the testing set will compromise the other 20% of our data. There are two ways that we could create our training/test sets. We could choose the first 80% of our data to be training data and the last 20% of the data to be the test data. To do this we could create a marker that counts the first 80% of the rows and use that to slice our matrices to obtain the training set. We would then slice from the marker to the end of our data for the test data. We note that we have a signal parameter because if we call this function on X_binary_imbalance we need to use the pos_sent_dropped dataframe that contains 75% dropped rows of sentiment 1 which we constructed in question 1. This ensures that the sizes of the training X,Y and testing X,Y match up. We create the function as follows:</p>"
   ]
  },
  {
   "cell_type": "code",
   "execution_count": 26,
   "metadata": {
    "collapsed": true
   },
   "outputs": [],
   "source": [
    "def split_data(X,sig=0):\n",
    "    X.toarray()\n",
    "    marker = int(X.toarray().shape[0]*.8)\n",
    "    train_X = X[:marker]\n",
    "    test_X = X[marker:]\n",
    "    if sig == 0: #If sig = 0 we do not have the binary_imbalance dataframe so we can use all data\n",
    "        train_Y = train_data[\"sentiment\"][:marker]\n",
    "        test_Y = train_data[\"sentiment\"][marker:]\n",
    "    else: #This signals to use the binary_imbalance dataframe that has the 75% ones dropped\n",
    "        train_Y = pos_sent_dropped[\"sentiment\"][:marker]\n",
    "        test_Y = pos_sent_dropped[\"sentiment\"][marker:]\n",
    "    \n",
    "    return train_X,test_X,train_Y,test_Y"
   ]
  },
  {
   "cell_type": "markdown",
   "metadata": {},
   "source": [
    "<p>We then generate our 80/20 split training and testing data as:</p>"
   ]
  },
  {
   "cell_type": "code",
   "execution_count": 27,
   "metadata": {
    "collapsed": false
   },
   "outputs": [],
   "source": [
    "train_X_counts,test_X_counts,train_Y_counts,test_Y_counts = split_data(X_counts)\n",
    "train_X_binary,test_X_binary,train_Y_binary,test_Y_binary = split_data(X_binary)\n",
    "train_X_tfidf,test_X_tfidf,train_Y_tfidf,test_Y_tfidf = split_data(X_tfidf)\n",
    "train_X_imbalance,test_X_imbalance,train_Y_imbalance,test_Y_imbalance = split_data(X_binary_imbalance,sig=1)"
   ]
  },
  {
   "cell_type": "markdown",
   "metadata": {},
   "source": [
    "<p>Alternatively, we could use randomness to generate our 80% training set and 20% testing set. This is a much better approach. Sklean has a useful function called train_test_split which helps do this. We will first set the random seed to 0. We again need to set a signal in case we call X_binary_imbalance. Our function is then as follows:</p>"
   ]
  },
  {
   "cell_type": "code",
   "execution_count": 28,
   "metadata": {
    "collapsed": true
   },
   "outputs": [],
   "source": [
    "from sklearn.model_selection import train_test_split\n",
    "\n",
    "def random_split_data(X,sig=0): \n",
    "    np.random.seed(0)\n",
    "    train_X,test_X = train_test_split(X.toarray(),test_size=0.2)\n",
    "    if sig == 0: \n",
    "        train_Y,test_Y = train_test_split(train_data[\"sentiment\"], test_size = 0.2,random_state=0)\n",
    "    else: \n",
    "        train_Y,test_Y = train_test_split(pos_sent_dropped[\"sentiment\"],test_size = 0.2,random_state=0)\n",
    "    return train_X,test_X,train_Y,test_Y"
   ]
  },
  {
   "cell_type": "markdown",
   "metadata": {},
   "source": [
    "<p>We then generate our 80/20 split training and testing data as:</p>"
   ]
  },
  {
   "cell_type": "code",
   "execution_count": 29,
   "metadata": {
    "collapsed": false
   },
   "outputs": [],
   "source": [
    "train_X_counts,test_X_counts,train_Y_counts,test_Y_counts = random_split_data(X_counts)\n",
    "train_X_binary,test_X_binary,train_Y_binary,test_Y_binary = random_split_data(X_binary)\n",
    "train_X_tfidf,test_X_tfidf,train_Y_tfidf,test_Y_tfidf = random_split_data(X_tfidf)\n",
    "train_X_imbalance,test_X_imbalance,train_Y_imbalance,test_Y_imbalance = random_split_data(X_binary_imbalance,sig=1)"
   ]
  },
  {
   "cell_type": "markdown",
   "metadata": {},
   "source": [
    "<p>Since it was not specifically mentioned how to choose the data split, we will use randomness as it is a standard approach. We will use the training and testing data in the cell above as we move forward.</p>"
   ]
  },
  {
   "cell_type": "markdown",
   "metadata": {
    "collapsed": false
   },
   "source": [
    "<p>With our training and testing data all set, we can create an SVM with a linear kernel as follows:</p>"
   ]
  },
  {
   "cell_type": "code",
   "execution_count": 30,
   "metadata": {
    "collapsed": false
   },
   "outputs": [],
   "source": [
    "from sklearn.svm import LinearSVC\n",
    "linear_svm = LinearSVC()"
   ]
  },
  {
   "cell_type": "markdown",
   "metadata": {},
   "source": [
    "<p>In our next function we will recreate this, so we will delete the above linear SVM for now.</p>"
   ]
  },
  {
   "cell_type": "code",
   "execution_count": 31,
   "metadata": {
    "collapsed": true
   },
   "outputs": [],
   "source": [
    "del linear_svm"
   ]
  },
  {
   "cell_type": "markdown",
   "metadata": {},
   "source": [
    "<p>We want to find the best C value for our training data. We will perform the following 30 times:</p>\n",
    "<ul>\n",
    "<li>Pick a random value of C uniformly in the interval (1e-4, 1e4)</li>\n",
    "<li>Run 5-fold cross-validation to train the SVM</li>\n",
    "<li>Append the accuracy to a list</li>\n",
    "</ul>\n",
    "<p>We will then choose the C value that corresponds to the best accuracy in our list. We will create a function called find_C() that takes in the training data X and Y. This function might take a few minutes to run so we will add some print statements to show what percent of the function is completed. Our function is as follows:</p>"
   ]
  },
  {
   "cell_type": "code",
   "execution_count": 32,
   "metadata": {
    "collapsed": false
   },
   "outputs": [],
   "source": [
    "#from sklearn.model_selection import cross_val_score\n",
    "from sklearn.model_selection import learning_curve\n",
    "import sys\n",
    "def find_C(X,Y):\n",
    "    np.random.seed(0)\n",
    "    results = []\n",
    "    for i in range(30):\n",
    "        \n",
    "        #Print progress for user \n",
    "        sys.stdout.flush()\n",
    "        progress = str(int(i/30.0*100))+'% completed'\n",
    "        sys.stdout.write('%s\\r' % progress)\n",
    "        \n",
    "        #randomly choose C in interval\n",
    "        C_val = np.random.uniform(1e-4,1e4)\n",
    "        \n",
    "        #create linear SVM model\n",
    "        linear_svm = LinearSVC(C=C_val,random_state=0)\n",
    "\n",
    "        #Get the AUC\n",
    "        ts,tss,vs = learning_curve(linear_svm,X,Y,cv=5,scoring='roc_auc')\n",
    "        auc = np.mean(vs)\n",
    "        \n",
    "        results.append([C_val,auc])\n",
    "    \n",
    "    #Printing final message when function finishes \n",
    "    sys.stdout.flush()\n",
    "    progress = 'Function Finished Running'\n",
    "    sys.stdout.write('%s\\r' % progress)\n",
    "    \n",
    "    return results\n"
   ]
  },
  {
   "cell_type": "markdown",
   "metadata": {},
   "source": [
    "<p>We now need to find the best C value for our training data, we can create a function that looks trough each tuple and finds the maximum roc-auc score. We can use a lambda to sort the tuples by index 1 which contains the roc auc score and set reverse=True so that the highest scores are first. We then obtain our C value by selecting index 0 in the sorted_results and then index 0 in the tuple for the roc auc score. Our function is as follows:</p>"
   ]
  },
  {
   "cell_type": "code",
   "execution_count": 94,
   "metadata": {
    "collapsed": false
   },
   "outputs": [],
   "source": [
    "def sort_C(results): \n",
    "    sorted_results = sorted(results, key=lambda x: x[1],reverse=True)\n",
    "    C = sorted_results[0][0]\n",
    "    return C"
   ]
  },
  {
   "cell_type": "markdown",
   "metadata": {},
   "source": [
    "<p>Let us now obtain our C values for each X training set:</p>"
   ]
  },
  {
   "cell_type": "markdown",
   "metadata": {},
   "source": [
    "<p>We first obtain our best C value for X_counts:</p>"
   ]
  },
  {
   "cell_type": "code",
   "execution_count": 95,
   "metadata": {
    "collapsed": false
   },
   "outputs": [
    {
     "name": "stdout",
     "output_type": "stream",
     "text": [
      "Function Finished Running\r"
     ]
    }
   ],
   "source": [
    "X_counts_results = find_C(train_X_counts,train_Y_counts)\n",
    "C_X_counts = sort_C(X_counts_results)"
   ]
  },
  {
   "cell_type": "markdown",
   "metadata": {},
   "source": [
    "<p>Next, we obtain our best C for X_binary:</p>"
   ]
  },
  {
   "cell_type": "code",
   "execution_count": 96,
   "metadata": {
    "collapsed": false
   },
   "outputs": [
    {
     "name": "stdout",
     "output_type": "stream",
     "text": [
      "Function Finished Running\r"
     ]
    }
   ],
   "source": [
    "X_binary_results = find_C(train_X_binary,train_Y_binary)\n",
    "C_X_binary = sort_C(X_binary_results)"
   ]
  },
  {
   "cell_type": "markdown",
   "metadata": {},
   "source": [
    "<P>We obtain our best C for X_tfidf:</p>"
   ]
  },
  {
   "cell_type": "code",
   "execution_count": 97,
   "metadata": {
    "collapsed": false
   },
   "outputs": [
    {
     "name": "stdout",
     "output_type": "stream",
     "text": [
      "Function Finished Running\r"
     ]
    }
   ],
   "source": [
    "X_tfidf_results = find_C(train_X_tfidf,train_Y_tfidf)\n",
    "C_X_tfidf = sort_C(X_tfidf_results)"
   ]
  },
  {
   "cell_type": "markdown",
   "metadata": {},
   "source": [
    "<p>We obtain our best C for X_binary_imbalance:</p>\n"
   ]
  },
  {
   "cell_type": "code",
   "execution_count": 98,
   "metadata": {
    "collapsed": false
   },
   "outputs": [
    {
     "name": "stdout",
     "output_type": "stream",
     "text": [
      "Function Finished Running\r"
     ]
    }
   ],
   "source": [
    "X_imbalance_results = find_C(train_X_imbalance,train_Y_imbalance)\n",
    "C_X_imbalance = sort_C(X_imbalance_results)"
   ]
  },
  {
   "cell_type": "markdown",
   "metadata": {},
   "source": [
    "<p>We can now train our models with the discovered C values. To do so we will create a function that creates a linear svm model that has the best C and returns the true positive rate, true negative rate, and the auc. We will use this function to generate an ROC curve. We note here that we are using .predict() so we will generate binary predictions (0 or 1). Thus, we will have two possible unique values so our ROC graph will look traingular in this case. The function is as follows:</p>"
   ]
  },
  {
   "cell_type": "code",
   "execution_count": 38,
   "metadata": {
    "collapsed": false
   },
   "outputs": [],
   "source": [
    "from sklearn import metrics\n",
    "import matplotlib.pyplot as plt\n",
    "from sklearn.metrics import roc_auc_score\n",
    "\n",
    "def create_model(C_val,X,Y,X_test,Y_test):\n",
    "    \n",
    "    #Set the random seed\n",
    "    np.random.seed(0)\n",
    "    \n",
    "    #Create and fit our Linear SVC model\n",
    "    clf = LinearSVC(C=C_val) \n",
    "    clf.fit(X,Y)\n",
    "    \n",
    "    #Predictions (binary) based on X_test\n",
    "    preds = clf.predict(X_test)\n",
    "    \n",
    "    #calculate fpr, tpr, and auc\n",
    "    fpr,tpr,_ = metrics.roc_curve(Y_test,preds)\n",
    "    auc = metrics.auc(fpr,tpr)\n",
    "    \n",
    "    return fpr,tpr,auc,preds"
   ]
  },
  {
   "cell_type": "markdown",
   "metadata": {},
   "source": [
    "<p>We could also rebuild our function to predict probabilities (distance of the samples X to the separating hyperplane, an alternative to predict_proba to get multi-class) instead of binary classified values (e.g. 0 or 1). This will allow us to generate an ROC curve that has many points opposed to the function above which will generate a more triangular ROC curve. The function is as follows:</p>"
   ]
  },
  {
   "cell_type": "code",
   "execution_count": 1,
   "metadata": {
    "collapsed": false
   },
   "outputs": [],
   "source": [
    "from sklearn import metrics\n",
    "import matplotlib.pyplot as plt\n",
    "from sklearn.metrics import roc_auc_score\n",
    "from sklearn.svm import SVC\n",
    "\n",
    "def create_model_prob(C_val,X,Y,X_test,Y_test):\n",
    "    #Set the random seed\n",
    "    np.random.seed(0)\n",
    "    \n",
    "    #Create and fit our Linear SVC model    \n",
    "    clf = LinearSVC(C=C_val) \n",
    "    clf.fit(X,Y)\n",
    "    \n",
    "    #Get the predictions\n",
    "    preds = clf.decision_function(X_test)\n",
    "    \n",
    "    #calculate fpr, tpr, and auc\n",
    "    fpr,tpr,_ = metrics.roc_curve(Y_test,preds)\n",
    "    auc = metrics.auc(fpr,tpr)\n",
    "    \n",
    "    return fpr,tpr,auc,preds"
   ]
  },
  {
   "cell_type": "markdown",
   "metadata": {},
   "source": [
    "<p>We first create the Linear SVM for X_counts with the binary predictions:</p>"
   ]
  },
  {
   "cell_type": "code",
   "execution_count": 40,
   "metadata": {
    "collapsed": false
   },
   "outputs": [],
   "source": [
    "fpr1,tpr1,auc1,_= create_model(C_X_counts,train_X_counts,train_Y_counts,test_X_counts,test_Y_counts)"
   ]
  },
  {
   "cell_type": "markdown",
   "metadata": {},
   "source": [
    "<p>We create the Linear SVM for X_counts with the probability based predictions:</p>"
   ]
  },
  {
   "cell_type": "code",
   "execution_count": 41,
   "metadata": {
    "collapsed": false
   },
   "outputs": [],
   "source": [
    "fpr1p,tpr1p,auc1p,_= create_model_prob(C_X_counts,train_X_counts,train_Y_counts,test_X_counts,test_Y_counts)"
   ]
  },
  {
   "cell_type": "markdown",
   "metadata": {},
   "source": [
    "<p>Next we create the Linear SVM for X_binary with the binary predictions:</p>"
   ]
  },
  {
   "cell_type": "code",
   "execution_count": 42,
   "metadata": {
    "collapsed": true
   },
   "outputs": [],
   "source": [
    "fpr2,tpr2,auc2,_ = create_model(C_X_binary,train_X_binary,train_Y_binary,test_X_binary,test_Y_binary)"
   ]
  },
  {
   "cell_type": "markdown",
   "metadata": {},
   "source": [
    "<p>We create the Linear SVM for X_binary with the probability based predictions:</p>"
   ]
  },
  {
   "cell_type": "code",
   "execution_count": 43,
   "metadata": {
    "collapsed": false
   },
   "outputs": [],
   "source": [
    "fpr2p,tpr2p,auc2p,_ = create_model_prob(C_X_binary,train_X_binary,train_Y_binary,test_X_binary,test_Y_binary)"
   ]
  },
  {
   "cell_type": "markdown",
   "metadata": {},
   "source": [
    "<p>We create the Linear SVM for X_tfidf with the binary predictions:</p>"
   ]
  },
  {
   "cell_type": "code",
   "execution_count": 44,
   "metadata": {
    "collapsed": false
   },
   "outputs": [],
   "source": [
    "fpr3,tpr3,auc3,_ = create_model(C_X_tfidf,train_X_tfidf,train_Y_tfidf,test_X_tfidf,test_Y_tfidf)"
   ]
  },
  {
   "cell_type": "markdown",
   "metadata": {},
   "source": [
    "<p>We create the Linear SVM for X_tfidf with the probability based predictions:</p>"
   ]
  },
  {
   "cell_type": "code",
   "execution_count": 45,
   "metadata": {
    "collapsed": true
   },
   "outputs": [],
   "source": [
    "fpr3p,tpr3p,auc3p,_ = create_model_prob(C_X_tfidf,train_X_tfidf,train_Y_tfidf,test_X_tfidf,test_Y_tfidf)"
   ]
  },
  {
   "cell_type": "markdown",
   "metadata": {},
   "source": [
    "<p>Finally, we create the Linear SVM for X_binary_imbalance with the binary predictions:</p>"
   ]
  },
  {
   "cell_type": "code",
   "execution_count": 46,
   "metadata": {
    "collapsed": false
   },
   "outputs": [],
   "source": [
    "fpr4,tpr4,auc4,_ = create_model(C_X_imbalance,train_X_imbalance,train_Y_imbalance,test_X_imbalance,test_Y_imbalance)"
   ]
  },
  {
   "cell_type": "markdown",
   "metadata": {},
   "source": [
    "<p>We then create the Linear SVM for X_binary_imblalance with the probability based predictions:</p>"
   ]
  },
  {
   "cell_type": "code",
   "execution_count": 47,
   "metadata": {
    "collapsed": true
   },
   "outputs": [],
   "source": [
    "fpr4p,tpr4p,auc4p,_ = create_model_prob(C_X_imbalance,train_X_imbalance,train_Y_imbalance,test_X_imbalance,test_Y_imbalance)"
   ]
  },
  {
   "cell_type": "markdown",
   "metadata": {},
   "source": [
    "<p>Let us now create a function to generate an ROC curve. Here we need to pass in the title of the graph, the auc, false positive rate, and true positive rate.</p>"
   ]
  },
  {
   "cell_type": "code",
   "execution_count": 74,
   "metadata": {
    "collapsed": false
   },
   "outputs": [],
   "source": [
    "import matplotlib.pyplot as plt\n",
    "%matplotlib inline  \n",
    "def plot_ROC(title,auc,fpr,tpr):\n",
    "    plt.style.use('seaborn-white')\n",
    "    plt.title(title)\n",
    "    plt.plot(fpr, tpr, label = 'AUC = %0.6f' % auc)\n",
    "    plt.legend(loc = 'lower right')\n",
    "    plt.plot([0, 1], [0, 1],'r--')\n",
    "    plt.xlim([0, 1])\n",
    "    plt.ylim([0, 1.01])\n",
    "    plt.ylabel('True Positive Rate')\n",
    "    plt.xlabel('False Positive Rate')\n",
    "    return plt"
   ]
  },
  {
   "cell_type": "markdown",
   "metadata": {},
   "source": [
    "<p>Let us now gerenrate the ROC curves (binary number of classes and probability based (multi-class)) for X_counts:</p>"
   ]
  },
  {
   "cell_type": "code",
   "execution_count": 75,
   "metadata": {
    "collapsed": false
   },
   "outputs": [
    {
     "data": {
      "image/png": "[encoded data removed]",
      "text/plain": [
       "<matplotlib.figure.Figure at 0x117d035f8>"
      ]
     },
     "metadata": {},
     "output_type": "display_data"
    },
    {
     "data": {
      "image/png": "[encoded data removed]",
      "text/plain": [
       "<matplotlib.figure.Figure at 0x11173bf60>"
      ]
     },
     "metadata": {},
     "output_type": "display_data"
    }
   ],
   "source": [
    "p = plot_ROC('X_Counts Linear SVM',auc1,fpr1,tpr1)\n",
    "p.show()\n",
    "\n",
    "p = plot_ROC('X_Counts Linear SVM',auc1p,fpr1p,tpr1p)\n",
    "p.show()"
   ]
  },
  {
   "cell_type": "markdown",
   "metadata": {
    "collapsed": false
   },
   "source": [
    "<p>Let us now gerenrate the ROC curves (binary number of classes and probability based (multi-class)) for X_binary:</p>"
   ]
  },
  {
   "cell_type": "code",
   "execution_count": 76,
   "metadata": {
    "collapsed": false
   },
   "outputs": [
    {
     "data": {
      "image/png": "[encoded data removed]",
      "text/plain": [
       "<matplotlib.figure.Figure at 0x1045cf630>"
      ]
     },
     "metadata": {},
     "output_type": "display_data"
    },
    {
     "data": {
      "image/png": "[encoded data removed]",
      "text/plain": [
       "<matplotlib.figure.Figure at 0x118348ba8>"
      ]
     },
     "metadata": {},
     "output_type": "display_data"
    }
   ],
   "source": [
    "p2 = plot_ROC('X_binary ROC Curve',auc2,fpr2,tpr2)\n",
    "p2.show()\n",
    "\n",
    "p2 = plot_ROC('X_binary ROC Curve',auc2p,fpr2p,tpr2p)\n",
    "p2.show()"
   ]
  },
  {
   "cell_type": "markdown",
   "metadata": {},
   "source": [
    "<p>Let us now gerenrate the ROC curves (binary number of classes and probability based (multi-class)) for X_tfidf:</p>"
   ]
  },
  {
   "cell_type": "code",
   "execution_count": 77,
   "metadata": {
    "collapsed": false
   },
   "outputs": [
    {
     "data": {
      "image/png": "[encoded data removed]",
      "text/plain": [
       "<matplotlib.figure.Figure at 0x117f9c978>"
      ]
     },
     "metadata": {},
     "output_type": "display_data"
    },
    {
     "data": {
      "image/png": "[encoded data removed]",
      "text/plain": [
       "<matplotlib.figure.Figure at 0x117c12da0>"
      ]
     },
     "metadata": {},
     "output_type": "display_data"
    }
   ],
   "source": [
    "p = plot_ROC('X_tfidf ROC Curve',auc3,fpr3,tpr3)\n",
    "p.show()\n",
    "\n",
    "p = plot_ROC('X_tfidf ROC Curve',auc3p,fpr3p,tpr3p)\n",
    "p.show()"
   ]
  },
  {
   "cell_type": "markdown",
   "metadata": {},
   "source": [
    "<p>Let us now gerenrate the ROC curves (binary number of classes and probability based (multi-class)) for X_binary_imbalance:</p>"
   ]
  },
  {
   "cell_type": "code",
   "execution_count": 78,
   "metadata": {
    "collapsed": false
   },
   "outputs": [
    {
     "data": {
      "image/png": "[encoded data removed]",
      "text/plain": [
       "<matplotlib.figure.Figure at 0x11a790278>"
      ]
     },
     "metadata": {},
     "output_type": "display_data"
    },
    {
     "data": {
      "image/png": "[encoded data removed]",
      "text/plain": [
       "<matplotlib.figure.Figure at 0x117c30cf8>"
      ]
     },
     "metadata": {},
     "output_type": "display_data"
    }
   ],
   "source": [
    "p = plot_ROC('X_binary_imbalance ROC Curve',auc4,fpr4,tpr4)\n",
    "p.show()\n",
    "\n",
    "p = plot_ROC('X_binary_imbalance ROC Curve',auc4p,fpr4p,tpr4p)\n",
    "p.show()"
   ]
  },
  {
   "cell_type": "markdown",
   "metadata": {},
   "source": [
    "<p>We see that the ROC curve is much better when we predict probabilities opposed to predicting binary values.</p>"
   ]
  },
  {
   "cell_type": "markdown",
   "metadata": {},
   "source": [
    "<p>Let's now compare compare all of our design matrices. We see that all design matrices had similar AUC from the SVM model with a linear kernel. In terms of performance X_binary performed the worst with the test data and X_tfidf performed the best with the test data when we look at the probability based roc curve. We see that if we look at the binary traingle shaped ROC curves that X_tfidf performed the best and X_binary_imbalance performed the worst. We will be using probability based predictions (using decision_function) for our Kaggle model as the performance here was much better. All four design matrices had very similar AUC scores within their respective classes and their respective ROC graphs look fairly similar. Let us now calculate lift.</p>\n"
   ]
  },
  {
   "cell_type": "markdown",
   "metadata": {},
   "source": [
    "<p>To calculate lift we need to take the roc auc of the best and worst C values and subtract their roc auc. We write a function below that finds the best and worst roc auc from the C values we constructed previously to calculate the lift of the model. The lift function is as follows:</p>"
   ]
  },
  {
   "cell_type": "code",
   "execution_count": 53,
   "metadata": {
    "collapsed": true
   },
   "outputs": [],
   "source": [
    "def lift(results): \n",
    "    sorted_results = sorted(results, key=lambda x: x[1],reverse=True)\n",
    "    #best auc and corresponding c value \n",
    "    best_auc = sorted_results[0][1]\n",
    "    best_c = sorted_results[0][0]\n",
    "    \n",
    "    #worst auc and corresponding c value\n",
    "    worst_auc = sorted_results[-1][1]\n",
    "    worst_c = sorted_results[-1][0]\n",
    "    lift = best_auc - worst_auc\n",
    "    return best_auc, worst_auc, best_c,worst_c, lift\n"
   ]
  },
  {
   "cell_type": "markdown",
   "metadata": {},
   "source": [
    "<p>The lift for X_counts is: </p>"
   ]
  },
  {
   "cell_type": "code",
   "execution_count": 54,
   "metadata": {
    "collapsed": false
   },
   "outputs": [
    {
     "name": "stdout",
     "output_type": "stream",
     "text": [
      "5.40717486641e-05\n"
     ]
    }
   ],
   "source": [
    "best_auc, worst_auc, best_c, worst_c, lift_val = lift(X_counts_results) \n",
    "print(lift_val)"
   ]
  },
  {
   "cell_type": "markdown",
   "metadata": {},
   "source": [
    "<p>The lift for X_binary is:</p>"
   ]
  },
  {
   "cell_type": "code",
   "execution_count": 55,
   "metadata": {
    "collapsed": false
   },
   "outputs": [
    {
     "name": "stdout",
     "output_type": "stream",
     "text": [
      "3.97498286847e-05\n"
     ]
    }
   ],
   "source": [
    "best_auc, worst_auc, best_c, worst_c, lift_val = lift(X_binary_results) \n",
    "print(lift_val)"
   ]
  },
  {
   "cell_type": "markdown",
   "metadata": {},
   "source": [
    "<p>The lift for X_tfidf is: </p>"
   ]
  },
  {
   "cell_type": "code",
   "execution_count": 56,
   "metadata": {
    "collapsed": false
   },
   "outputs": [
    {
     "name": "stdout",
     "output_type": "stream",
     "text": [
      "0.000706090291093\n"
     ]
    }
   ],
   "source": [
    "best_auc, worst_auc, best_c, worst_c, lift_val = lift(X_tfidf_results) \n",
    "print(lift_val)"
   ]
  },
  {
   "cell_type": "markdown",
   "metadata": {},
   "source": [
    "<p>The lift for X_binary_imbalance is:</p>"
   ]
  },
  {
   "cell_type": "code",
   "execution_count": 57,
   "metadata": {
    "collapsed": false
   },
   "outputs": [
    {
     "name": "stdout",
     "output_type": "stream",
     "text": [
      "1.03755737362e-05\n"
     ]
    }
   ],
   "source": [
    "best_auc, worst_auc, best_c, worst_c, lift_val = lift(X_imbalance_results) \n",
    "print(lift_val)"
   ]
  },
  {
   "cell_type": "markdown",
   "metadata": {},
   "source": [
    "<p>Let us comment on these lift values. We see that the lift is very small. If we examine the randomly chosen C values from np.random.uniform(1e-4,1e4) we see that this generally chooses larger numbers than very tiny numbers. This is not the case with a logarithmic scale which would allow us to see much smaller numbers. Thus, it makes sense that the lift is small in our case.</p>"
   ]
  },
  {
   "cell_type": "markdown",
   "metadata": {},
   "source": [
    "<p>Let us now take a look at the kaggle data set. We will store the kaggle test data at the same level as this notebook file. Please note that if the data set is not placed at this level the code will break, so if one is interested only in the results please do not run the following cells until Question 4.</p>"
   ]
  },
  {
   "cell_type": "markdown",
   "metadata": {},
   "source": [
    "<p>Our create_model() function generates the AUC using the actual labels for the test set. In this case we do not have this data so let us rewrite that function to only return the predictions which we can submit to kaggle and view our performance.</p>"
   ]
  },
  {
   "cell_type": "code",
   "execution_count": 58,
   "metadata": {
    "collapsed": true
   },
   "outputs": [],
   "source": [
    "from sklearn import metrics\n",
    "import matplotlib.pyplot as plt\n",
    "from sklearn.metrics import roc_auc_score\n",
    "\n",
    "def kaggle_model(C_val,X,Y,X_test):\n",
    "    \n",
    "    #Set the random seed\n",
    "    np.random.seed(0)\n",
    "    \n",
    "    #Create and fit our Linear SVC model\n",
    "    clf = LinearSVC(C=C_val) \n",
    "    clf.fit(X,Y)\n",
    "    \n",
    "    #Predict test data\n",
    "    preds = clf.decision_function(X_test)\n",
    "    return preds"
   ]
  },
  {
   "cell_type": "markdown",
   "metadata": {},
   "source": [
    "<p>Let us first use Kaggle's test data with our X_counts design matrix:</p>"
   ]
  },
  {
   "cell_type": "markdown",
   "metadata": {},
   "source": [
    "<p>We first need to clean the test data:</p>"
   ]
  },
  {
   "cell_type": "code",
   "execution_count": 59,
   "metadata": {
    "collapsed": true
   },
   "outputs": [],
   "source": [
    "test_data = pd.read_csv(\"testData.tsv\",header=0,delimiter=\"\\t\",quoting=3)\n",
    "num_reviews = len(test_data[\"review\"])\n",
    "clean_test_reviews = []\n",
    "for i in range(0,num_reviews): \n",
    "    clean_test_reviews.append(clean_data(test_data[\"review\"][i]))"
   ]
  },
  {
   "cell_type": "markdown",
   "metadata": {},
   "source": [
    "<p>We then create our design matrices from the test data:</p>"
   ]
  },
  {
   "cell_type": "code",
   "execution_count": 60,
   "metadata": {
    "collapsed": false
   },
   "outputs": [],
   "source": [
    "#X_counts\n",
    "test_data_features = vectorizer.transform(clean_test_reviews)\n",
    "X_counts_test = test_data_features.toarray()\n",
    "\n",
    "#X_binary\n",
    "X_binary_test = X_counts_test.copy()\n",
    "X_binary_test[X_binary_test > 0] = 1\n",
    "\n",
    "#X_tfidf\n",
    "X_tfidf_test = transformer.transform(X_counts_test)\n",
    "X_tfidf_test = X_tfidf_test.toarray()\n",
    "\n",
    "#X_binary_imbalance\n",
    "np.random.seed(0)\n",
    "rtd = np.random.choice(test_data.index, int(0.75*test_data.shape[0]),replace=False)\n",
    "srt = test_data.drop(rtd)\n",
    "X_binary_imbalance_test = X_binary_test[srt.index]\n",
    "idz = test_data.iloc[srt.index]"
   ]
  },
  {
   "cell_type": "markdown",
   "metadata": {},
   "source": [
    "<p>We now create our X_counts kaggle model:</p>"
   ]
  },
  {
   "cell_type": "code",
   "execution_count": 80,
   "metadata": {
    "collapsed": false
   },
   "outputs": [],
   "source": [
    "#Test X_counts feature \n",
    "result= kaggle_model(C_X_counts,X_counts,train_data[\"sentiment\"],X_counts_test)\n",
    "output = pd.DataFrame( data={\"id\":test_data[\"id\"], \"sentiment\":result} )\n",
    "output.to_csv('Bag_of_Words_model.csv', index=False, quoting=3)"
   ]
  },
  {
   "cell_type": "markdown",
   "metadata": {},
   "source": [
    "<p>Using, X_counts the AUC was 0.87634 as graded by Kaggle.</p>"
   ]
  },
  {
   "cell_type": "markdown",
   "metadata": {},
   "source": [
    "<p>Let us now use X_binary:</p>"
   ]
  },
  {
   "cell_type": "code",
   "execution_count": 81,
   "metadata": {
    "collapsed": true
   },
   "outputs": [],
   "source": [
    "result= kaggle_model(C_X_binary,X_binary,train_data[\"sentiment\"],X_binary_test)\n",
    "output = pd.DataFrame( data={\"id\":test_data[\"id\"], \"sentiment\":result} )\n",
    "output.to_csv('Bag_of_Words_model.csv', index=False, quoting=3)"
   ]
  },
  {
   "cell_type": "markdown",
   "metadata": {},
   "source": [
    "<p>Using, X_binary the AUC was 0.87803 as graded by Kaggle.</p>"
   ]
  },
  {
   "cell_type": "markdown",
   "metadata": {},
   "source": [
    "<p>Let us now use X_tfidf:</p>"
   ]
  },
  {
   "cell_type": "code",
   "execution_count": 82,
   "metadata": {
    "collapsed": false
   },
   "outputs": [],
   "source": [
    "result= kaggle_model(C_X_tfidf,X_tfidf,train_data[\"sentiment\"],X_tfidf_test)\n",
    "output = pd.DataFrame( data={\"id\":test_data[\"id\"], \"sentiment\":result} )\n",
    "output.to_csv('Bag_of_Words_model.csv', index=False, quoting=3)"
   ]
  },
  {
   "cell_type": "markdown",
   "metadata": {},
   "source": [
    "<p>Using X_tfidf, the AUC was 0.89081 as graded by Kaggle.</p>"
   ]
  },
  {
   "cell_type": "markdown",
   "metadata": {},
   "source": [
    "<p>Let us finally use X_binary_imbalance:</p>"
   ]
  },
  {
   "cell_type": "code",
   "execution_count": 83,
   "metadata": {
    "collapsed": false
   },
   "outputs": [],
   "source": [
    "result= kaggle_model(C_X_imbalance,X_binary_imbalance,pos_sent_dropped[\"sentiment\"],X_binary_test)\n",
    "output = pd.DataFrame( data={\"id\":test_data[\"id\"], \"sentiment\":result} )\n",
    "output.to_csv('Bag_of_Words_model.csv', index=False, quoting=3)"
   ]
  },
  {
   "cell_type": "markdown",
   "metadata": {},
   "source": [
    "<p>Using X_binary_imbalance, the AUC was 0.87922 as graded by Kaggle:</p>"
   ]
  },
  {
   "cell_type": "markdown",
   "metadata": {},
   "source": [
    "<p>Our final results are as follows: </p>\n",
    "<table> \n",
    "<tr>\n",
    "<td>Design Matrix</td>\n",
    "<td>AUC</td>\n",
    "</tr>\n",
    "<tr>\n",
    "<td>X_counts</td>\n",
    "<td>0.87634</td>\n",
    "</tr>\n",
    "<tr>\n",
    "<td>X_binary</td>\n",
    "<td>0.87803</td>\n",
    "</tr>\n",
    "<tr>\n",
    "<td>X_tfidf</td>\n",
    "<td>0.89081</td>\n",
    "</tr>\n",
    "<tr>\n",
    "<td>X_binary_imbalance</td>\n",
    "<td>0.87922</td>\n",
    "</tr>\n",
    "</table>\n",
    "\n",
    "\n",
    "<p>Looking at the performance of all our models, we see that using X_tfidf produced the best results. The worst results came from the X_counts design matrix.</p>"
   ]
  },
  {
   "cell_type": "markdown",
   "metadata": {},
   "source": [
    "<center><h2><font color='black'>Question 4</font></h2></center>"
   ]
  },
  {
   "cell_type": "markdown",
   "metadata": {},
   "source": [
    "<p>Let us now generate a learning curve and create a logisitc regression model to use with X_counts. To generate the learning curve we can refer to the sklearn example found <a href='http://scikit-learn.org/stable/auto_examples/model_selection/plot_learning_curve.html'>here</a>. We can use their plotting function to pass in our logistic regression model, a title, our X_counts, our sentiment data from train_data, 5 fold cross validation, and a list of trading sizes for the learning curve graph.</p>"
   ]
  },
  {
   "cell_type": "code",
   "execution_count": 65,
   "metadata": {
    "collapsed": true
   },
   "outputs": [],
   "source": [
    "import numpy as np\n",
    "import matplotlib.pyplot as plt\n",
    "from sklearn.datasets import load_digits\n",
    "from sklearn.model_selection import learning_curve\n",
    "from sklearn.model_selection import ShuffleSplit\n",
    "\n",
    "\n",
    "def plot_learning_curve(estimator, title, X, y, ylim=None, cv=None,\n",
    "                        n_jobs=1, train_sizes=np.linspace(.1, 1.0, 5)):\n",
    "    \"\"\"\n",
    "    Generate a simple plot of the test and training learning curve.\n",
    "\n",
    "    Parameters\n",
    "    ----------\n",
    "    estimator : object type that implements the \"fit\" and \"predict\" methods\n",
    "        An object of that type which is cloned for each validation.\n",
    "\n",
    "    title : string\n",
    "        Title for the chart.\n",
    "\n",
    "    X : array-like, shape (n_samples, n_features)\n",
    "        Training vector, where n_samples is the number of samples and\n",
    "        n_features is the number of features.\n",
    "\n",
    "    y : array-like, shape (n_samples) or (n_samples, n_features), optional\n",
    "        Target relative to X for classification or regression;\n",
    "        None for unsupervised learning.\n",
    "\n",
    "    ylim : tuple, shape (ymin, ymax), optional\n",
    "        Defines minimum and maximum yvalues plotted.\n",
    "\n",
    "    cv : int, cross-validation generator or an iterable, optional\n",
    "        Determines the cross-validation splitting strategy.\n",
    "        Possible inputs for cv are:\n",
    "          - None, to use the default 3-fold cross-validation,\n",
    "          - integer, to specify the number of folds.\n",
    "          - An object to be used as a cross-validation generator.\n",
    "          - An iterable yielding train/test splits.\n",
    "\n",
    "        For integer/None inputs, if ``y`` is binary or multiclass,\n",
    "        :class:`StratifiedKFold` used. If the estimator is not a classifier\n",
    "        or if ``y`` is neither binary nor multiclass, :class:`KFold` is used.\n",
    "\n",
    "        Refer :ref:`User Guide <cross_validation>` for the various\n",
    "        cross-validators that can be used here.\n",
    "\n",
    "    n_jobs : integer, optional\n",
    "        Number of jobs to run in parallel (default 1).\n",
    "    \"\"\"\n",
    "    \n",
    "    #Create the figure with labels \n",
    "    plt.figure()\n",
    "    plt.title(title)\n",
    "    if ylim is not None:\n",
    "        plt.ylim(*ylim)\n",
    "    plt.xlabel(\"Training examples\")\n",
    "    plt.ylabel(\"Score\")\n",
    "    \n",
    "    #Get learning curve data from sklean learning_curve function\n",
    "    train_sizes, train_scores, test_scores = learning_curve(\n",
    "        estimator, X, y, cv=cv, n_jobs=n_jobs, train_sizes=train_sizes)\n",
    "    train_scores_mean = np.mean(train_scores, axis=1)\n",
    "    train_scores_std = np.std(train_scores, axis=1)\n",
    "    test_scores_mean = np.mean(test_scores, axis=1)\n",
    "    test_scores_std = np.std(test_scores, axis=1)\n",
    "    plt.grid()\n",
    "\n",
    "    #Plot the training score against the training sizes\n",
    "    plt.fill_between(train_sizes, train_scores_mean - train_scores_std,\n",
    "                     train_scores_mean + train_scores_std, alpha=0.1,\n",
    "                     color=\"r\")\n",
    "    plt.fill_between(train_sizes, test_scores_mean - test_scores_std,\n",
    "                     test_scores_mean + test_scores_std, alpha=0.1, color=\"g\")\n",
    "    plt.plot(train_sizes, train_scores_mean, 'o-', color=\"r\",\n",
    "             label=\"Training score\")\n",
    "    plt.plot(train_sizes, test_scores_mean, 'o-', color=\"g\",\n",
    "             label=\"Cross-validation score\")\n",
    "\n",
    "    #Arrange the plot legend \n",
    "    plt.legend(loc=\"best\")\n",
    "    \n",
    "    return plt"
   ]
  },
  {
   "cell_type": "markdown",
   "metadata": {},
   "source": [
    "<p>Let us now create the logistic regression model and plot the learning curve for the X_counts design matrix with 5 fold cross validation and training_sizes = [100,500,1000,2000,3000,4000,5000,7500,10000,15000,20000]. We do so as follows:</p>"
   ]
  },
  {
   "cell_type": "code",
   "execution_count": 66,
   "metadata": {
    "collapsed": false
   },
   "outputs": [
    {
     "data": {
      "image/png": "[encoded data removed]",
      "text/plain": [
       "<matplotlib.figure.Figure at 0x117d1d358>"
      ]
     },
     "metadata": {},
     "output_type": "display_data"
    }
   ],
   "source": [
    "#Remove outdated version plot warning \n",
    "import warnings\n",
    "warnings.filterwarnings(\"ignore\", category=DeprecationWarning)\n",
    "\n",
    "#Reset style back\n",
    "import matplotlib as mpl\n",
    "mpl.rcParams.update(mpl.rcParamsDefault)\n",
    "\n",
    "from sklearn.learning_curve import learning_curve\n",
    "from sklearn.linear_model import LogisticRegression\n",
    "\n",
    "#Create Logistic Regression Model\n",
    "estimator = LogisticRegression()\n",
    "\n",
    "#Title of our plot \n",
    "title = 'Learning Curve'\n",
    "\n",
    "#Plot the learning curve through sklearn function\n",
    "plt = plot_learning_curve(estimator, title, X_counts, train_data[\"sentiment\"], cv=5,train_sizes=[100, 500, 1000, 2000,\n",
    "3000, 4000, 5000, 7500, 10000, 15000, 20000],n_jobs=-1)\n",
    "plt.show()"
   ]
  },
  {
   "cell_type": "markdown",
   "metadata": {},
   "source": [
    "<p>Let us now talk about this learning curve: </p>"
   ]
  },
  {
   "cell_type": "markdown",
   "metadata": {},
   "source": [
    "<p>Above we see that we have the X_counts score for a variety of training split sizes. We see that the cross validation increases with the number of training examples. There is a drastic jump in score from 100 to 500 training samples and the entire interval between 100 to 5000 training examples has a drastic change in score. However, we see that after 6250 training samples our score converges to around 0.85 and increasing the training examples does not increase performance drastically. After this point, an increase in training examples does not improve our model greatly. This might not be the case with a model such as a convolutional neural network, however we see that our Logistic Regression model sees no great performance increase after 6250 training samples. The training score decreases as we add more samples. This makes sense as we have more data. More data means we are less likely to overfit the model on all of the examples.</p>"
   ]
  }
 ],
 "metadata": {
  "kernelspec": {
   "display_name": "Python 3",
   "language": "python",
   "name": "python3"
  },
  "language_info": {
   "codemirror_mode": {
    "name": "ipython",
    "version": 3
   },
   "file_extension": ".py",
   "mimetype": "text/x-python",
   "name": "python",
   "nbconvert_exporter": "python",
   "pygments_lexer": "ipython3",
   "version": "3.5.2"
  }
 },
 "nbformat": 4,
 "nbformat_minor": 2
}
